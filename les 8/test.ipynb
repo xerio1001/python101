{
 "cells": [
  {
   "cell_type": "code",
   "execution_count": 1,
   "metadata": {},
   "outputs": [
    {
     "name": "stdout",
     "output_type": "stream",
     "text": [
      "<class 'tuple'>\n",
      "<class 'tuple'>\n",
      "2\n",
      "3\n",
      "4\n",
      "appel\n",
      "mango\n",
      "True\n",
      "False\n"
     ]
    }
   ],
   "source": [
    "t0 = 'appel', 'mango'\n",
    "t1 = ('appel', 'mango')\n",
    "t2 = ('appel', 3, 1.4)\n",
    "t3 = ('appel', 3, 1.4, ('banaan', 5))\n",
    "print(type(t0))\n",
    "print(type(t1))\n",
    "print(len(t1))\n",
    "print(len(t2))\n",
    "print(len(t3))\n",
    "for element in t1:\n",
    " print(element)\n",
    "print('mango' in t1)\n",
    "print('mango' in t2)"
   ]
  },
  {
   "cell_type": "code",
   "execution_count": 15,
   "metadata": {},
   "outputs": [
    {
     "name": "stdout",
     "output_type": "stream",
     "text": [
      "appel\n",
      "banaan\n",
      "kers\n",
      "doerian\n",
      "mango\n"
     ]
    }
   ],
   "source": [
    "t1 = ('appel', 'banaan', 'kers', 'doerian', 'mango')\n",
    "\n",
    "for x in t1:\n",
    "    print(x)"
   ]
  },
  {
   "cell_type": "code",
   "execution_count": 16,
   "metadata": {},
   "outputs": [
    {
     "name": "stdout",
     "output_type": "stream",
     "text": [
      "['__add__', '__class__', '__contains__', '__delattr__', '__dir__', '__doc__', '__eq__', '__format__', '__ge__', '__getattribute__', '__getitem__', '__getnewargs__', '__gt__', '__hash__', '__init__', '__init_subclass__', '__iter__', '__le__', '__len__', '__lt__', '__mod__', '__mul__', '__ne__', '__new__', '__reduce__', '__reduce_ex__', '__repr__', '__rmod__', '__rmul__', '__setattr__', '__sizeof__', '__str__', '__subclasshook__', 'capitalize', 'casefold', 'center', 'count', 'encode', 'endswith', 'expandtabs', 'find', 'format', 'format_map', 'index', 'isalnum', 'isalpha', 'isascii', 'isdecimal', 'isdigit', 'isidentifier', 'islower', 'isnumeric', 'isprintable', 'isspace', 'istitle', 'isupper', 'join', 'ljust', 'lower', 'lstrip', 'maketrans', 'partition', 'removeprefix', 'removesuffix', 'replace', 'rfind', 'rindex', 'rjust', 'rpartition', 'rsplit', 'rstrip', 'split', 'splitlines', 'startswith', 'strip', 'swapcase', 'title', 'translate', 'upper', 'zfill']\n",
      "['__add__', '__class__', '__class_getitem__', '__contains__', '__delattr__', '__dir__', '__doc__', '__eq__', '__format__', '__ge__', '__getattribute__', '__getitem__', '__getnewargs__', '__gt__', '__hash__', '__init__', '__init_subclass__', '__iter__', '__le__', '__len__', '__lt__', '__mul__', '__ne__', '__new__', '__reduce__', '__reduce_ex__', '__repr__', '__rmul__', '__setattr__', '__sizeof__', '__str__', '__subclasshook__', 'count', 'index']\n",
      "********************************************************************************\n",
      "Help on built-in function count:\n",
      "\n",
      "count(value, /) method of builtins.tuple instance\n",
      "    Return number of occurrences of value.\n",
      "\n",
      "None\n",
      "********************************************************************************\n",
      "Help on built-in function index:\n",
      "\n",
      "index(value, start=0, stop=9223372036854775807, /) method of builtins.tuple instance\n",
      "    Return first index of value.\n",
      "    \n",
      "    Raises ValueError if the value is not present.\n",
      "\n",
      "None\n"
     ]
    }
   ],
   "source": [
    "str1=\"hallo wereld\"\n",
    "tup1=(1,2,3,4,5)\n",
    "print(dir(str1))\n",
    "print(dir(tup1))\n",
    "print('*'*80)\n",
    "print(help(tup1.count))\n",
    "print('*'*80)\n",
    "print(help(tup1.index))"
   ]
  },
  {
   "cell_type": "code",
   "execution_count": 1,
   "metadata": {},
   "outputs": [
    {
     "name": "stdout",
     "output_type": "stream",
     "text": [
      "(('b', 35), ('d', 24), ('a', 21), ('c', 17))\n"
     ]
    }
   ],
   "source": [
    "tpl = (('a', 21),('b', 35),('c', 17), ('d',24))\n",
    "list_tpl = list(tpl)\n",
    "\n",
    "list_tpl.sort(key = lambda x: x[1], reverse=True)\n",
    "sorted_tpl = tuple(list_tpl)\n",
    "\n",
    "print(sorted_tpl)"
   ]
  },
  {
   "cell_type": "code",
   "execution_count": 11,
   "metadata": {},
   "outputs": [
    {
     "name": "stdout",
     "output_type": "stream",
     "text": [
      "APPEL\n",
      "BANAAN\n",
      "KERS\n",
      "PEER\n",
      "MANGO\n",
      "AARDBEI\n",
      "\n",
      " ['aardbei', 'mango', 'peer', 'kers', 'banaan', 'appel']\n"
     ]
    }
   ],
   "source": [
    "fruitlist = ['appel', 'banaan', 'kers', 'peer', 'mango', 'aardbei']\n",
    "\n",
    "for word in fruitlist:\n",
    "    word = word.upper()\n",
    "    print(word)\n",
    "\n",
    "fruitlist.reverse()\n",
    "print(\"\\n\", fruitlist)"
   ]
  },
  {
   "cell_type": "code",
   "execution_count": 18,
   "metadata": {},
   "outputs": [
    {
     "name": "stdout",
     "output_type": "stream",
     "text": [
      "aardbei\n",
      "mango\n",
      "peer\n",
      "kers\n",
      "banaan\n",
      "appel\n"
     ]
    }
   ],
   "source": [
    "fruitlist = ['appel', 'banaan', 'kers', 'peer', 'mango', 'aardbei']\n",
    "\n",
    "i = -1\n",
    "for word in fruitlist:\n",
    "    word = fruitlist[i]\n",
    "    print(word)\n",
    "    i -= 1"
   ]
  }
 ],
 "metadata": {
  "interpreter": {
   "hash": "04be0b2c051b0b0275afc077ab8a1a3e34a745d8b365f41cfda62de07cdcc075"
  },
  "kernelspec": {
   "display_name": "Python 3.10.0 64-bit",
   "language": "python",
   "name": "python3"
  },
  "language_info": {
   "codemirror_mode": {
    "name": "ipython",
    "version": 3
   },
   "file_extension": ".py",
   "mimetype": "text/x-python",
   "name": "python",
   "nbconvert_exporter": "python",
   "pygments_lexer": "ipython3",
   "version": "3.10.0"
  },
  "orig_nbformat": 4
 },
 "nbformat": 4,
 "nbformat_minor": 2
}
