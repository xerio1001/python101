{
 "cells": [
  {
   "cell_type": "code",
   "execution_count": 86,
   "metadata": {},
   "outputs": [
    {
     "name": "stdout",
     "output_type": "stream",
     "text": [
      "12\n"
     ]
    }
   ],
   "source": [
    "print(5+7)"
   ]
  },
  {
   "cell_type": "code",
   "execution_count": 87,
   "metadata": {},
   "outputs": [
    {
     "name": "stdout",
     "output_type": "stream",
     "text": [
      "Dit is opvultekst voor de les Nogmaals een opvultekst\n",
      "werkt dit ook?\n"
     ]
    }
   ],
   "source": [
    "print('Dit', 'is', 'opvultekst', 'voor', 'de', 'les', sep=' ', end=' ')\n",
    "print('Nogmaals', 'een', 'opvultekst', sep=' ')\n",
    "print('werkt dit ook?')"
   ]
  },
  {
   "cell_type": "code",
   "execution_count": 88,
   "metadata": {},
   "outputs": [
    {
     "name": "stdout",
     "output_type": "stream",
     "text": [
      "945.45\n"
     ]
    }
   ],
   "source": [
    "aantal = (60)\n",
    "aantal_prijs = (aantal * (24.95 / 100 * 60))\n",
    "uitkomst = (aantal_prijs + (59 * 0.75) + 3)\n",
    "\n",
    "print(uitkomst)"
   ]
  },
  {
   "cell_type": "code",
   "execution_count": 89,
   "metadata": {},
   "outputs": [
    {
     "name": "stdout",
     "output_type": "stream",
     "text": [
      "22 dagen Later en 7 uren later dus het is 21.0\n"
     ]
    }
   ],
   "source": [
    "tijd = (14.00)\n",
    "dagen = (535 // 24)\n",
    "uren = (535 % 24)\n",
    "uitkomst_dag = (tijd + uren)\n",
    "\n",
    "print(dagen, 'dagen Later en', uren, 'uren later dus het is', uitkomst_dag)"
   ]
  },
  {
   "cell_type": "code",
   "execution_count": 90,
   "metadata": {},
   "outputs": [
    {
     "name": "stdout",
     "output_type": "stream",
     "text": [
      "6.0\n"
     ]
    }
   ],
   "source": [
    "variable1 = 2\n",
    "variable2 = 4\n",
    "variable3 = 6\n",
    "variable4 = 8\n",
    "variable5 = 10\n",
    "variable6 = 12\n",
    "\n",
    "uitkomst =((variable1 + variable2 + variable3 + variable4 + variable5 + variable6) / 7)\n",
    "print(uitkomst)"
   ]
  },
  {
   "cell_type": "code",
   "execution_count": 91,
   "metadata": {},
   "outputs": [
    {
     "name": "stdout",
     "output_type": "stream",
     "text": [
      "14957.119512000001\n"
     ]
    }
   ],
   "source": [
    "PI = 3.141592\n",
    "straal = 69\n",
    "\n",
    "uitkomst = straal * straal * PI\n",
    "\n",
    "print(uitkomst)"
   ]
  },
  {
   "cell_type": "code",
   "execution_count": 92,
   "metadata": {},
   "outputs": [
    {
     "name": "stdout",
     "output_type": "stream",
     "text": [
      "21 & 69 & 420\n"
     ]
    }
   ],
   "source": [
    "a = 69\n",
    "b = 420\n",
    "c = 21\n",
    "a , b , c = c , a , b\n",
    "\n",
    "print(a, b, c, sep=' & ')"
   ]
  }
 ],
 "metadata": {
  "interpreter": {
   "hash": "04be0b2c051b0b0275afc077ab8a1a3e34a745d8b365f41cfda62de07cdcc075"
  },
  "kernelspec": {
   "display_name": "Python 3.10.0 64-bit",
   "language": "python",
   "name": "python3"
  },
  "language_info": {
   "codemirror_mode": {
    "name": "ipython",
    "version": 3
   },
   "file_extension": ".py",
   "mimetype": "text/x-python",
   "name": "python",
   "nbconvert_exporter": "python",
   "pygments_lexer": "ipython3",
   "version": "3.10.0"
  },
  "orig_nbformat": 4
 },
 "nbformat": 4,
 "nbformat_minor": 2
}
