{
 "cells": [
  {
   "cell_type": "code",
   "execution_count": 1,
   "metadata": {},
   "outputs": [
    {
     "name": "stdout",
     "output_type": "stream",
     "text": [
      "Je hebt nodig:  5 briefjes van 100, 1 briefjes van 50, 0 briefjes van 20, 1 briefjes van 10, 1 briefjes van 5, 0 muntstukken van 1\n"
     ]
    }
   ],
   "source": [
    "try:\n",
    "    waarde = int(input('Enter your value: '))\n",
    "    berekening1 = waarde // 100\n",
    "    rest_ber1 = waarde % 100\n",
    "\n",
    "    berekening2 = rest_ber1 // 50\n",
    "    rest_ber2 = rest_ber1 % 50\n",
    "\n",
    "    berekening3 = rest_ber2 // 20\n",
    "    rest_ber3 = rest_ber2 % 20\n",
    "\n",
    "    berekening4 = rest_ber3 // 10\n",
    "    rest_ber4 = rest_ber3 % 10\n",
    "\n",
    "    berekening5 = rest_ber4 // 5\n",
    "    rest_ber5 = rest_ber4 % 5\n",
    "\n",
    "    berekening6 = rest_ber5 // 1\n",
    "    rest_ber6 = rest_ber5 % 1\n",
    "\n",
    "    uitkomst_munt = ()\n",
    "\n",
    "    print('Je hebt nodig: ', berekening1, 'briefjes van 100,', berekening2, 'briefjes van 50,', berekening3, 'briefjes van 20,', end=' ')\n",
    "    print(berekening4, 'briefjes van 10,', berekening5, 'briefjes van 5,', berekening6, 'muntstukken van 1')\n",
    "except:\n",
    "    print('Geef een waarde.')\n",
    "    "
   ]
  }
 ],
 "metadata": {
  "interpreter": {
   "hash": "04be0b2c051b0b0275afc077ab8a1a3e34a745d8b365f41cfda62de07cdcc075"
  },
  "kernelspec": {
   "display_name": "Python 3.10.0 64-bit",
   "language": "python",
   "name": "python3"
  },
  "language_info": {
   "codemirror_mode": {
    "name": "ipython",
    "version": 3
   },
   "file_extension": ".py",
   "mimetype": "text/x-python",
   "name": "python",
   "nbconvert_exporter": "python",
   "pygments_lexer": "ipython3",
   "version": "3.10.0"
  },
  "orig_nbformat": 4
 },
 "nbformat": 4,
 "nbformat_minor": 2
}
