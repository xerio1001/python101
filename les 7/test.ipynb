{
 "cells": [
  {
   "cell_type": "code",
   "execution_count": 1,
   "metadata": {},
   "outputs": [
    {
     "name": "stdout",
     "output_type": "stream",
     "text": [
      "rui\n"
     ]
    }
   ],
   "source": [
    "x = 1\n",
    "y = 4\n",
    "text = \"druiven\"\n",
    "print(text[x:y])"
   ]
  },
  {
   "cell_type": "code",
   "execution_count": 13,
   "metadata": {},
   "outputs": [
    {
     "name": "stdout",
     "output_type": "stream",
     "text": [
      "neviurd\n",
      "viu\n"
     ]
    }
   ],
   "source": [
    "x = 1\n",
    "y = 4\n",
    "text = \"druiven\"\n",
    "print(text[::-1])\n",
    "print(text[y:x:-1])"
   ]
  },
  {
   "cell_type": "code",
   "execution_count": 21,
   "metadata": {},
   "outputs": [
    {
     "name": "stdout",
     "output_type": "stream",
     "text": [
      "l - a - n - g - e -   - s - t - r - i - n - g - \n",
      "l - a - n - g - e -   - s - t - r - i - n - g - \n",
      "l - a - n - g - e -   - s - t - r - i - n - g - "
     ]
    }
   ],
   "source": [
    "fruit = \"lange string\"\n",
    "for letter in fruit:\n",
    "    print(letter, '- ' , end='' )\n",
    "print()\n",
    "for x in range(len(fruit)):\n",
    "    print(fruit[x], '- ' , end='' )\n",
    "print()\n",
    "i = 0\n",
    "while i < len(fruit):\n",
    "    print (fruit[i], '- ', end='')\n",
    "    i += 1"
   ]
  },
  {
   "cell_type": "code",
   "execution_count": 26,
   "metadata": {},
   "outputs": [
    {
     "name": "stdout",
     "output_type": "stream",
     "text": [
      "join: \n",
      "appel en banaan\n"
     ]
    }
   ],
   "source": [
    "fruit=(\"appel\",\"en\",\"banaan\")\n",
    "print(\"join: \")\n",
    "zin = \" \".join(fruit)\n",
    "print(zin)"
   ]
  },
  {
   "cell_type": "code",
   "execution_count": 37,
   "metadata": {},
   "outputs": [
    {
     "name": "stdout",
     "output_type": "stream",
     "text": [
      "23\n"
     ]
    }
   ],
   "source": [
    "tekst = '\\\n",
    "appel,peer,banaan,kers,appel,kers,\\\n",
    "kers,mango,appel,kers,tomaat,\\\n",
    "banaan,appel,appel,appel,appel,kers,\\\n",
    "banaan,appel,banaan,kers,tomaat,mango'\n",
    "\n",
    "woorden = tekst.split(\",\")\n",
    "print(len(woorden))\n"
   ]
  },
  {
   "cell_type": "code",
   "execution_count": 69,
   "metadata": {},
   "outputs": [
    {
     "ename": "TypeError",
     "evalue": "'builtin_function_or_method' object is not subscriptable",
     "output_type": "error",
     "traceback": [
      "\u001b[1;31m---------------------------------------------------------------------------\u001b[0m",
      "\u001b[1;31mTypeError\u001b[0m                                 Traceback (most recent call last)",
      "\u001b[1;32m~\\AppData\\Local\\Temp/ipykernel_10492/3595357370.py\u001b[0m in \u001b[0;36m<module>\u001b[1;34m\u001b[0m\n\u001b[0;32m      7\u001b[0m \u001b[1;33m\u001b[0m\u001b[0m\n\u001b[0;32m      8\u001b[0m \u001b[0mtekst\u001b[0m\u001b[1;33m.\u001b[0m\u001b[0msplit\u001b[0m\u001b[1;33m(\u001b[0m\u001b[1;33m)\u001b[0m\u001b[1;33m\u001b[0m\u001b[1;33m\u001b[0m\u001b[0m\n\u001b[1;32m----> 9\u001b[1;33m \u001b[1;32mfor\u001b[0m \u001b[0mx\u001b[0m \u001b[1;32min\u001b[0m \u001b[0mascii\u001b[0m\u001b[1;33m[\u001b[0m\u001b[1;36m31\u001b[0m\u001b[1;33m]\u001b[0m\u001b[1;33m:\u001b[0m\u001b[1;33m\u001b[0m\u001b[1;33m\u001b[0m\u001b[0m\n\u001b[0m\u001b[0;32m     10\u001b[0m     \u001b[0mprint\u001b[0m\u001b[1;33m(\u001b[0m\u001b[0mx\u001b[0m\u001b[1;33m)\u001b[0m\u001b[1;33m\u001b[0m\u001b[1;33m\u001b[0m\u001b[0m\n",
      "\u001b[1;31mTypeError\u001b[0m: 'builtin_function_or_method' object is not subscriptable"
     ]
    }
   ],
   "source": [
    "tekst= '\\\n",
    "Update je gaming setup met de \\\n",
    "AMD Advanced Upgrade Kit met Ryzen 7 3700X. \\\n",
    "Deze kit bestaat uit een processor, \\\n",
    "een moederbord, intern geheugen en koelpasta.'\n",
    "\n",
    "i = 0\n",
    "\n",
    "tekst.split()\n",
    "for x in tekst:\n",
    "    if x.lower() in \"aieou\":\n",
    "        i += 1\n",
    "    \n",
    "print(i)"
   ]
  },
  {
   "cell_type": "code",
   "execution_count": 89,
   "metadata": {},
   "outputs": [
    {
     "name": "stdout",
     "output_type": "stream",
     "text": [
      "|  32    |  48 0  |  64 @  |  80 P  |  96 `  | 112 p  |\n",
      "|  33 !  |  49 1  |  65 A  |  81 Q  |  97 a  | 113 q  |\n",
      "|  34 \"  |  50 2  |  66 B  |  82 R  |  98 b  | 114 r  |\n",
      "|  35 #  |  51 3  |  67 C  |  83 S  |  99 c  | 115 s  |\n",
      "|  36 $  |  52 4  |  68 D  |  84 T  | 100 d  | 116 t  |\n",
      "|  37 %  |  53 5  |  69 E  |  85 U  | 101 e  | 117 u  |\n",
      "|  38 &  |  54 6  |  70 F  |  86 V  | 102 f  | 118 v  |\n",
      "|  39 '  |  55 7  |  71 G  |  87 W  | 103 g  | 119 w  |\n",
      "|  40 (  |  56 8  |  72 H  |  88 X  | 104 h  | 120 x  |\n",
      "|  41 )  |  57 9  |  73 I  |  89 Y  | 105 i  | 121 y  |\n",
      "|  42 *  |  58 :  |  74 J  |  90 Z  | 106 j  | 122 z  |\n",
      "|  43 +  |  59 ;  |  75 K  |  91 [  | 107 k  | 123 {  |\n",
      "|  44 ,  |  60 <  |  76 L  |  92 \\  | 108 l  | 124 |  |\n",
      "|  45 -  |  61 =  |  77 M  |  93 ]  | 109 m  | 125 }  |\n",
      "|  46 .  |  62 >  |  78 N  |  94 ^  | 110 n  | 126 ~  |\n",
      "|  47 /  |  63 ?  |  79 O  |  95 _  | 111 o  | 127   |\n"
     ]
    }
   ],
   "source": [
    "i = 32\n",
    "for row in range(0,16):\n",
    "    for col in range(0,6):\n",
    "        currentVal = i + row + col * 16\n",
    "\n",
    "        print(f'| {currentVal:3} {chr(currentVal):2} ', end='')\n",
    "    print('|')"
   ]
  }
 ],
 "metadata": {
  "interpreter": {
   "hash": "04be0b2c051b0b0275afc077ab8a1a3e34a745d8b365f41cfda62de07cdcc075"
  },
  "kernelspec": {
   "display_name": "Python 3.10.0 64-bit",
   "language": "python",
   "name": "python3"
  },
  "language_info": {
   "codemirror_mode": {
    "name": "ipython",
    "version": 3
   },
   "file_extension": ".py",
   "mimetype": "text/x-python",
   "name": "python",
   "nbconvert_exporter": "python",
   "pygments_lexer": "ipython3",
   "version": "3.10.0"
  },
  "orig_nbformat": 4
 },
 "nbformat": 4,
 "nbformat_minor": 2
}
