{
 "cells": [
  {
   "cell_type": "code",
   "execution_count": 1,
   "metadata": {},
   "outputs": [
    {
     "name": "stdout",
     "output_type": "stream",
     "text": [
      "rui\n"
     ]
    }
   ],
   "source": [
    "x = 1\n",
    "y = 4\n",
    "text = \"druiven\"\n",
    "print(text[x:y])"
   ]
  },
  {
   "cell_type": "code",
   "execution_count": 13,
   "metadata": {},
   "outputs": [
    {
     "name": "stdout",
     "output_type": "stream",
     "text": [
      "neviurd\n",
      "viu\n"
     ]
    }
   ],
   "source": [
    "x = 1\n",
    "y = 4\n",
    "text = \"druiven\"\n",
    "print(text[::-1])\n",
    "print(text[y:x:-1])"
   ]
  },
  {
   "cell_type": "code",
   "execution_count": 5,
   "metadata": {},
   "outputs": [
    {
     "name": "stdout",
     "output_type": "stream",
     "text": [
      "l - a - n - g - e -   - s - t - r - i - n - g - \n",
      "l - a - n - g - e -   - s - t - r - i - n - g - \n",
      "l - n - e - s - r - n - "
     ]
    }
   ],
   "source": [
    "fruit = \"lange string\"\n",
    "for letter in fruit:\n",
    "    print(letter, '- ' , end='' )\n",
    "print()\n",
    "for x in range(0,len(fruit)):\n",
    "    print(fruit[x], '- ' , end='' )\n",
    "print()\n",
    "i = 0\n",
    "while i < len(fruit):\n",
    "    print ( fruit[i], '- ', end='')\n",
    "    i += 1"
   ]
  }
 ],
 "metadata": {
  "interpreter": {
   "hash": "04be0b2c051b0b0275afc077ab8a1a3e34a745d8b365f41cfda62de07cdcc075"
  },
  "kernelspec": {
   "display_name": "Python 3.10.0 64-bit",
   "language": "python",
   "name": "python3"
  },
  "language_info": {
   "codemirror_mode": {
    "name": "ipython",
    "version": 3
   },
   "file_extension": ".py",
   "mimetype": "text/x-python",
   "name": "python",
   "nbconvert_exporter": "python",
   "pygments_lexer": "ipython3",
   "version": "3.10.0"
  },
  "orig_nbformat": 4
 },
 "nbformat": 4,
 "nbformat_minor": 2
}
